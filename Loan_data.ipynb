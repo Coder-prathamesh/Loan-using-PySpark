{
 "cells": [
  {
   "cell_type": "code",
   "execution_count": 1,
   "id": "9229dde5",
   "metadata": {},
   "outputs": [
    {
     "data": {
      "text/plain": [
       "'C:\\\\Program Files\\\\spark-3.1.2-bin-hadoop3.2\\\\spark-3.1.2-bin-hadoop3.2'"
      ]
     },
     "execution_count": 1,
     "metadata": {},
     "output_type": "execute_result"
    }
   ],
   "source": [
    "import findspark\n",
    "findspark.init()\n",
    "findspark.find()\n"
   ]
  },
  {
   "cell_type": "code",
   "execution_count": 2,
   "id": "7b7b3713",
   "metadata": {},
   "outputs": [],
   "source": [
    "import pyspark"
   ]
  },
  {
   "cell_type": "code",
   "execution_count": 3,
   "id": "8cb68d27",
   "metadata": {},
   "outputs": [],
   "source": [
    "from pyspark.sql import SparkSession\n",
    "import pyspark.sql.functions as F\n",
    "from pyspark.sql.functions import when, count, col, isnull, regexp_replace\n",
    "from pyspark.sql.types import StructField,IntegerType, StructType,StringType"
   ]
  },
  {
   "cell_type": "code",
   "execution_count": 4,
   "id": "52ef05a2",
   "metadata": {},
   "outputs": [],
   "source": [
    "spark= SparkSession.builder.appName('Loan').getOrCreate()"
   ]
  },
  {
   "cell_type": "code",
   "execution_count": 5,
   "id": "43c8036e",
   "metadata": {},
   "outputs": [
    {
     "data": {
      "text/html": [
       "\n",
       "            <div>\n",
       "                <p><b>SparkSession - in-memory</b></p>\n",
       "                \n",
       "        <div>\n",
       "            <p><b>SparkContext</b></p>\n",
       "\n",
       "            <p><a href=\"http://LAPTOP-9M22R26A:4040\">Spark UI</a></p>\n",
       "\n",
       "            <dl>\n",
       "              <dt>Version</dt>\n",
       "                <dd><code>v3.1.2</code></dd>\n",
       "              <dt>Master</dt>\n",
       "                <dd><code>local[*]</code></dd>\n",
       "              <dt>AppName</dt>\n",
       "                <dd><code>Loan</code></dd>\n",
       "            </dl>\n",
       "        </div>\n",
       "        \n",
       "            </div>\n",
       "        "
      ],
      "text/plain": [
       "<pyspark.sql.session.SparkSession at 0x1a5ad657d00>"
      ]
     },
     "execution_count": 5,
     "metadata": {},
     "output_type": "execute_result"
    }
   ],
   "source": [
    "spark"
   ]
  },
  {
   "cell_type": "code",
   "execution_count": 6,
   "id": "5448fe8d",
   "metadata": {},
   "outputs": [],
   "source": [
    "df=spark.read.option('header','true').csv('SBAnational.csv',inferSchema=True)"
   ]
  },
  {
   "cell_type": "code",
   "execution_count": 7,
   "id": "2618cd96",
   "metadata": {},
   "outputs": [
    {
     "name": "stdout",
     "output_type": "stream",
     "text": [
      "+-------------+--------------------+----------+-----+-----+----------------+---------+------+------------+----------+----+-----+--------+---------+-----------+-------------+----------+---------+------+----------+----------------+-----------------+------------+----------+------------+-----------+-----------+\n",
      "|LoanNr_ChkDgt|                Name|      City|State|  Zip|            Bank|BankState| NAICS|ApprovalDate|ApprovalFY|Term|NoEmp|NewExist|CreateJob|RetainedJob|FranchiseCode|UrbanRural|RevLineCr|LowDoc|ChgOffDate|DisbursementDate|DisbursementGross|BalanceGross|MIS_Status|ChgOffPrinGr|     GrAppv|   SBA_Appv|\n",
      "+-------------+--------------------+----------+-----+-----+----------------+---------+------+------------+----------+----+-----+--------+---------+-----------+-------------+----------+---------+------+----------+----------------+-----------------+------------+----------+------------+-----------+-----------+\n",
      "|   1000014003|      ABC HOBBYCRAFT|EVANSVILLE|   IN|47711|FIFTH THIRD BANK|       OH|451120|   28-Feb-97|      1997|  84|    4|       2|        0|          0|            1|         0|        N|     Y|      null|       28-Feb-99|      $60,000.00 |      $0.00 |     P I F|      $0.00 |$60,000.00 |$48,000.00 |\n",
      "|   1000024006|LANDMARK BAR & GR...| NEW PARIS|   IN|46526| 1ST SOURCE BANK|       IN|722410|   28-Feb-97|      1997|  60|    2|       2|        0|          0|            1|         0|        N|     Y|      null|       31-May-97|      $40,000.00 |      $0.00 |     P I F|      $0.00 |$40,000.00 |$32,000.00 |\n",
      "+-------------+--------------------+----------+-----+-----+----------------+---------+------+------------+----------+----+-----+--------+---------+-----------+-------------+----------+---------+------+----------+----------------+-----------------+------------+----------+------------+-----------+-----------+\n",
      "only showing top 2 rows\n",
      "\n"
     ]
    }
   ],
   "source": [
    "df.show(2)"
   ]
  },
  {
   "cell_type": "code",
   "execution_count": 8,
   "id": "952aa5a0",
   "metadata": {},
   "outputs": [
    {
     "name": "stdout",
     "output_type": "stream",
     "text": [
      "root\n",
      " |-- LoanNr_ChkDgt: long (nullable = true)\n",
      " |-- Name: string (nullable = true)\n",
      " |-- City: string (nullable = true)\n",
      " |-- State: string (nullable = true)\n",
      " |-- Zip: string (nullable = true)\n",
      " |-- Bank: string (nullable = true)\n",
      " |-- BankState: string (nullable = true)\n",
      " |-- NAICS: string (nullable = true)\n",
      " |-- ApprovalDate: string (nullable = true)\n",
      " |-- ApprovalFY: string (nullable = true)\n",
      " |-- Term: integer (nullable = true)\n",
      " |-- NoEmp: integer (nullable = true)\n",
      " |-- NewExist: integer (nullable = true)\n",
      " |-- CreateJob: integer (nullable = true)\n",
      " |-- RetainedJob: integer (nullable = true)\n",
      " |-- FranchiseCode: integer (nullable = true)\n",
      " |-- UrbanRural: integer (nullable = true)\n",
      " |-- RevLineCr: string (nullable = true)\n",
      " |-- LowDoc: string (nullable = true)\n",
      " |-- ChgOffDate: string (nullable = true)\n",
      " |-- DisbursementDate: string (nullable = true)\n",
      " |-- DisbursementGross: string (nullable = true)\n",
      " |-- BalanceGross: string (nullable = true)\n",
      " |-- MIS_Status: string (nullable = true)\n",
      " |-- ChgOffPrinGr: string (nullable = true)\n",
      " |-- GrAppv: string (nullable = true)\n",
      " |-- SBA_Appv: string (nullable = true)\n",
      "\n"
     ]
    }
   ],
   "source": [
    "# Creates a Schema of dataFrame\n",
    "df.printSchema()"
   ]
  },
  {
   "cell_type": "code",
   "execution_count": 9,
   "id": "7a006e28",
   "metadata": {
    "scrolled": true
   },
   "outputs": [
    {
     "data": {
      "text/plain": [
       "['LoanNr_ChkDgt',\n",
       " 'Name',\n",
       " 'City',\n",
       " 'State',\n",
       " 'Zip',\n",
       " 'Bank',\n",
       " 'BankState',\n",
       " 'NAICS',\n",
       " 'ApprovalDate',\n",
       " 'ApprovalFY',\n",
       " 'Term',\n",
       " 'NoEmp',\n",
       " 'NewExist',\n",
       " 'CreateJob',\n",
       " 'RetainedJob',\n",
       " 'FranchiseCode',\n",
       " 'UrbanRural',\n",
       " 'RevLineCr',\n",
       " 'LowDoc',\n",
       " 'ChgOffDate',\n",
       " 'DisbursementDate',\n",
       " 'DisbursementGross',\n",
       " 'BalanceGross',\n",
       " 'MIS_Status',\n",
       " 'ChgOffPrinGr',\n",
       " 'GrAppv',\n",
       " 'SBA_Appv']"
      ]
     },
     "execution_count": 9,
     "metadata": {},
     "output_type": "execute_result"
    }
   ],
   "source": [
    "df.columns"
   ]
  },
  {
   "cell_type": "code",
   "execution_count": 10,
   "id": "81c99e3f",
   "metadata": {
    "scrolled": false
   },
   "outputs": [],
   "source": [
    "#Create summary statistics of df\n",
    "\n",
    "#df.describe().show()"
   ]
  },
  {
   "cell_type": "code",
   "execution_count": 11,
   "id": "71bf511a",
   "metadata": {},
   "outputs": [],
   "source": [
    "# Total no. of records\n",
    "#df.count()"
   ]
  },
  {
   "cell_type": "code",
   "execution_count": 12,
   "id": "e94143ab",
   "metadata": {},
   "outputs": [],
   "source": [
    "#Remove duplicate records\n",
    "\n",
    "#df=df.dropDuplicates()\n",
    "\n",
    "#df.count() #No duplicates found"
   ]
  },
  {
   "cell_type": "code",
   "execution_count": 13,
   "id": "85d75a1d",
   "metadata": {},
   "outputs": [
    {
     "data": {
      "text/plain": [
       "779587"
      ]
     },
     "execution_count": 13,
     "metadata": {},
     "output_type": "execute_result"
    }
   ],
   "source": [
    "df.select('Name').distinct().count() #Almost 90% are unique values. So drop 'Name' column."
   ]
  },
  {
   "cell_type": "code",
   "execution_count": 14,
   "id": "f8e299fb",
   "metadata": {},
   "outputs": [
    {
     "data": {
      "text/plain": [
       "5869"
      ]
     },
     "execution_count": 14,
     "metadata": {},
     "output_type": "execute_result"
    }
   ],
   "source": [
    "df.select('Bank').distinct().count()"
   ]
  },
  {
   "cell_type": "code",
   "execution_count": 15,
   "id": "f866d9c0",
   "metadata": {},
   "outputs": [
    {
     "data": {
      "text/plain": [
       "1342"
      ]
     },
     "execution_count": 15,
     "metadata": {},
     "output_type": "execute_result"
    }
   ],
   "source": [
    "df.select('NAICS').distinct().count()"
   ]
  },
  {
   "cell_type": "code",
   "execution_count": 16,
   "id": "e09510b2",
   "metadata": {},
   "outputs": [
    {
     "data": {
      "text/plain": [
       "102"
      ]
     },
     "execution_count": 16,
     "metadata": {},
     "output_type": "execute_result"
    }
   ],
   "source": [
    "df.select('BankState').distinct().count()"
   ]
  },
  {
   "cell_type": "code",
   "execution_count": 17,
   "id": "8eb67114",
   "metadata": {},
   "outputs": [
    {
     "name": "stdout",
     "output_type": "stream",
     "text": [
      "+-------------+----+----+-----+---+----+---------+-----+------------+----------+----+-----+--------+---------+-----------+-------------+----------+---------+------+----------+----------------+-----------------+------------+----------+------------+------+--------+\n",
      "|LoanNr_ChkDgt|Name|City|State|Zip|Bank|BankState|NAICS|ApprovalDate|ApprovalFY|Term|NoEmp|NewExist|CreateJob|RetainedJob|FranchiseCode|UrbanRural|RevLineCr|LowDoc|ChgOffDate|DisbursementDate|DisbursementGross|BalanceGross|MIS_Status|ChgOffPrinGr|GrAppv|SBA_Appv|\n",
      "+-------------+----+----+-----+---+----+---------+-----+------------+----------+----+-----+--------+---------+-----------+-------------+----------+---------+------+----------+----------------+-----------------+------------+----------+------------+------+--------+\n",
      "|            0|   3|  30|   14|  0|1559|     1566|    0|           0|         0|   0|    0|     136|        0|          0|            0|         0|     4528|  2582|    736402|            2431|                0|           0|      1997|           0|     0|       0|\n",
      "+-------------+----+----+-----+---+----+---------+-----+------------+----------+----+-----+--------+---------+-----------+-------------+----------+---------+------+----------+----------------+-----------------+------------+----------+------------+------+--------+\n",
      "\n"
     ]
    }
   ],
   "source": [
    "#Finding columns with missing values.\n",
    "\n",
    "df.select([count(when(isnull(c), c)).alias(c) for c in df.columns]).show()\n"
   ]
  },
  {
   "cell_type": "code",
   "execution_count": 18,
   "id": "d56a72b7",
   "metadata": {},
   "outputs": [],
   "source": [
    "# Drop columns \n",
    "df=df.drop('Name','LoanNr_ChkDgt','City')"
   ]
  },
  {
   "cell_type": "code",
   "execution_count": 19,
   "id": "a683c0b6",
   "metadata": {},
   "outputs": [],
   "source": [
    "df=df.drop('Bank','BankState','Zip','ApprovalDate','ApprovalFY','DisbursementDate','DisbursementGross'\n",
    "        ,'BalanceGross','ChgoffPrinGR')\n",
    "df=df.drop('Zip','RevLineCr','SBA_Appv')"
   ]
  },
  {
   "cell_type": "code",
   "execution_count": 20,
   "id": "72aff9a0",
   "metadata": {},
   "outputs": [],
   "source": [
    "df= df.drop('ChgOffDate')"
   ]
  },
  {
   "cell_type": "code",
   "execution_count": 21,
   "id": "d7bb5c06",
   "metadata": {},
   "outputs": [],
   "source": [
    "df=df.na.drop(how='any',subset=['MIS_Status'])"
   ]
  },
  {
   "cell_type": "code",
   "execution_count": 22,
   "id": "ae90c222",
   "metadata": {},
   "outputs": [],
   "source": [
    "df=df.na.drop(how='any',subset=['State'])"
   ]
  },
  {
   "cell_type": "code",
   "execution_count": 23,
   "id": "f0561e7f",
   "metadata": {},
   "outputs": [],
   "source": [
    "df=df.na.drop(how='any',subset=['LowDoc'])"
   ]
  },
  {
   "cell_type": "code",
   "execution_count": 24,
   "id": "fcb41a3b",
   "metadata": {},
   "outputs": [],
   "source": [
    "df=df.na.drop(how='any',subset=['CreateJob'])"
   ]
  },
  {
   "cell_type": "code",
   "execution_count": 25,
   "id": "b70da939",
   "metadata": {},
   "outputs": [],
   "source": [
    "df=df.na.drop(how='any',subset=['NAICS'])"
   ]
  },
  {
   "cell_type": "code",
   "execution_count": 124,
   "id": "19110740",
   "metadata": {},
   "outputs": [
    {
     "name": "stdout",
     "output_type": "stream",
     "text": [
      "+-----+------+----+-----+--------+---------+-----------+-------------+----------+------+----------+------------+\n",
      "|State| NAICS|Term|NoEmp|NewExist|CreateJob|RetainedJob|FranchiseCode|UrbanRural|LowDoc|MIS_Status|      GrAppv|\n",
      "+-----+------+----+-----+--------+---------+-----------+-------------+----------+------+----------+------------+\n",
      "|   IN|451120|  84|    4|       2|        0|          0|            1|         0|     Y|     P I F| $60,000.00 |\n",
      "|   IN|722410|  60|    2|       2|        0|          0|            1|         0|     Y|     P I F| $40,000.00 |\n",
      "|   IN|621210| 180|    7|       1|        0|          0|            1|         0|     N|     P I F|$287,000.00 |\n",
      "|   OK|     0|  60|    2|       1|        0|          0|            1|         0|     Y|     P I F| $35,000.00 |\n",
      "|   FL|     0| 240|   14|       1|        7|          7|            1|         0|     N|     P I F|$229,000.00 |\n",
      "+-----+------+----+-----+--------+---------+-----------+-------------+----------+------+----------+------------+\n",
      "only showing top 5 rows\n",
      "\n"
     ]
    }
   ],
   "source": [
    "df.show(5)"
   ]
  },
  {
   "cell_type": "code",
   "execution_count": 26,
   "id": "2e456439",
   "metadata": {},
   "outputs": [],
   "source": [
    "# Removing $ symbol from col'GrAppv'\n",
    "df=df.withColumn('GrAppv', F.regexp_replace(F.col('GrAppv'),'[$]',''))"
   ]
  },
  {
   "cell_type": "code",
   "execution_count": 27,
   "id": "61f2f6f0",
   "metadata": {},
   "outputs": [],
   "source": [
    "df=df.withColumn('GrAppv', F.regexp_replace(F.col('GrAppv'),'[,]',''))"
   ]
  },
  {
   "cell_type": "code",
   "execution_count": 28,
   "id": "3ff65cd9",
   "metadata": {},
   "outputs": [],
   "source": [
    "#Convert cols 'NAICS' and 'GrAppv' to numbers\n",
    "df = df.withColumn('GrAppv', df['GrAppv'].cast(\"float\"))\n",
    "df = df.withColumn('NAICS', df['NAICS'].cast(\"int\"))"
   ]
  },
  {
   "cell_type": "code",
   "execution_count": 29,
   "id": "5523e989",
   "metadata": {},
   "outputs": [
    {
     "name": "stdout",
     "output_type": "stream",
     "text": [
      "+-----+-----+----+-----+--------+---------+-----------+-------------+----------+------+----------+--------+\n",
      "|State|NAICS|Term|NoEmp|NewExist|CreateJob|RetainedJob|FranchiseCode|UrbanRural|LowDoc|MIS_Status|  GrAppv|\n",
      "+-----+-----+----+-----+--------+---------+-----------+-------------+----------+------+----------+--------+\n",
      "|   IN|   45|  84|    4|       2|        0|          0|            1|         0|     Y|     P I F| 60000.0|\n",
      "|   IN|   72|  60|    2|       2|        0|          0|            1|         0|     Y|     P I F| 40000.0|\n",
      "|   IN|   62| 180|    7|       1|        0|          0|            1|         0|     N|     P I F|287000.0|\n",
      "|   OK|    0|  60|    2|       1|        0|          0|            1|         0|     Y|     P I F| 35000.0|\n",
      "|   FL|    0| 240|   14|       1|        7|          7|            1|         0|     N|     P I F|229000.0|\n",
      "+-----+-----+----+-----+--------+---------+-----------+-------------+----------+------+----------+--------+\n",
      "only showing top 5 rows\n",
      "\n"
     ]
    }
   ],
   "source": [
    "#Extracting 1st two-digits from NAICS column\n",
    "\n",
    "df=df.withColumn('NAICS',df['NAICS'][1:2])\n",
    "df.show(5)"
   ]
  },
  {
   "cell_type": "code",
   "execution_count": 143,
   "id": "0cfc1c64",
   "metadata": {},
   "outputs": [
    {
     "name": "stdout",
     "output_type": "stream",
     "text": [
      "root\n",
      " |-- State: string (nullable = true)\n",
      " |-- NAICS: string (nullable = true)\n",
      " |-- Term: integer (nullable = true)\n",
      " |-- NoEmp: integer (nullable = true)\n",
      " |-- NewExist: integer (nullable = true)\n",
      " |-- CreateJob: integer (nullable = true)\n",
      " |-- RetainedJob: integer (nullable = true)\n",
      " |-- FranchiseCode: integer (nullable = true)\n",
      " |-- UrbanRural: integer (nullable = true)\n",
      " |-- LowDoc: string (nullable = true)\n",
      " |-- MIS_Status: string (nullable = true)\n",
      " |-- GrAppv: float (nullable = true)\n",
      "\n"
     ]
    }
   ],
   "source": [
    "df.printSchema()"
   ]
  },
  {
   "cell_type": "code",
   "execution_count": 102,
   "id": "f0dd71aa",
   "metadata": {},
   "outputs": [
    {
     "name": "stdout",
     "output_type": "stream",
     "text": [
      "<class 'pandas.core.frame.DataFrame'>\n",
      "RangeIndex: 894576 entries, 0 to 894575\n",
      "Data columns (total 12 columns):\n",
      " #   Column         Non-Null Count   Dtype  \n",
      "---  ------         --------------   -----  \n",
      " 0   State          894576 non-null  object \n",
      " 1   NAICS          894508 non-null  object \n",
      " 2   Term           894576 non-null  int32  \n",
      " 3   NoEmp          894576 non-null  int32  \n",
      " 4   NewExist       894445 non-null  float64\n",
      " 5   CreateJob      894576 non-null  int32  \n",
      " 6   RetainedJob    894576 non-null  int32  \n",
      " 7   FranchiseCode  894576 non-null  int32  \n",
      " 8   UrbanRural     894576 non-null  int32  \n",
      " 9   LowDoc         894576 non-null  object \n",
      " 10  MIS_Status     894576 non-null  object \n",
      " 11  GrAppv         894576 non-null  float32\n",
      "dtypes: float32(1), float64(1), int32(6), object(4)\n",
      "memory usage: 58.0+ MB\n"
     ]
    }
   ],
   "source": [
    "df1=df.toPandas()\n",
    "df1.info()"
   ]
  },
  {
   "cell_type": "code",
   "execution_count": 63,
   "id": "1dc95fe4",
   "metadata": {},
   "outputs": [
    {
     "data": {
      "text/html": [
       "<div>\n",
       "<style scoped>\n",
       "    .dataframe tbody tr th:only-of-type {\n",
       "        vertical-align: middle;\n",
       "    }\n",
       "\n",
       "    .dataframe tbody tr th {\n",
       "        vertical-align: top;\n",
       "    }\n",
       "\n",
       "    .dataframe thead th {\n",
       "        text-align: right;\n",
       "    }\n",
       "</style>\n",
       "<table border=\"1\" class=\"dataframe\">\n",
       "  <thead>\n",
       "    <tr style=\"text-align: right;\">\n",
       "      <th></th>\n",
       "      <th>Term</th>\n",
       "      <th>NoEmp</th>\n",
       "      <th>NewExist</th>\n",
       "      <th>CreateJob</th>\n",
       "      <th>RetainedJob</th>\n",
       "      <th>FranchiseCode</th>\n",
       "      <th>UrbanRural</th>\n",
       "      <th>GrAppv</th>\n",
       "    </tr>\n",
       "  </thead>\n",
       "  <tbody>\n",
       "    <tr>\n",
       "      <th>count</th>\n",
       "      <td>894576.000000</td>\n",
       "      <td>894576.000000</td>\n",
       "      <td>894445.000000</td>\n",
       "      <td>894576.000000</td>\n",
       "      <td>894576.000000</td>\n",
       "      <td>894576.000000</td>\n",
       "      <td>894576.000000</td>\n",
       "      <td>8.945760e+05</td>\n",
       "    </tr>\n",
       "    <tr>\n",
       "      <th>mean</th>\n",
       "      <td>111.094364</td>\n",
       "      <td>11.437133</td>\n",
       "      <td>1.280801</td>\n",
       "      <td>8.459165</td>\n",
       "      <td>10.821937</td>\n",
       "      <td>2759.693461</td>\n",
       "      <td>1.246191</td>\n",
       "      <td>1.932718e+05</td>\n",
       "    </tr>\n",
       "    <tr>\n",
       "      <th>std</th>\n",
       "      <td>80.656820</td>\n",
       "      <td>73.906391</td>\n",
       "      <td>0.498614</td>\n",
       "      <td>237.291653</td>\n",
       "      <td>237.724820</td>\n",
       "      <td>12771.457464</td>\n",
       "      <td>181.843629</td>\n",
       "      <td>2.837098e+05</td>\n",
       "    </tr>\n",
       "    <tr>\n",
       "      <th>min</th>\n",
       "      <td>0.000000</td>\n",
       "      <td>0.000000</td>\n",
       "      <td>0.000000</td>\n",
       "      <td>0.000000</td>\n",
       "      <td>0.000000</td>\n",
       "      <td>0.000000</td>\n",
       "      <td>0.000000</td>\n",
       "      <td>0.000000e+00</td>\n",
       "    </tr>\n",
       "    <tr>\n",
       "      <th>25%</th>\n",
       "      <td>60.000000</td>\n",
       "      <td>2.000000</td>\n",
       "      <td>1.000000</td>\n",
       "      <td>0.000000</td>\n",
       "      <td>0.000000</td>\n",
       "      <td>1.000000</td>\n",
       "      <td>0.000000</td>\n",
       "      <td>3.500000e+04</td>\n",
       "    </tr>\n",
       "    <tr>\n",
       "      <th>50%</th>\n",
       "      <td>84.000000</td>\n",
       "      <td>4.000000</td>\n",
       "      <td>1.000000</td>\n",
       "      <td>0.000000</td>\n",
       "      <td>1.000000</td>\n",
       "      <td>1.000000</td>\n",
       "      <td>1.000000</td>\n",
       "      <td>9.000000e+04</td>\n",
       "    </tr>\n",
       "    <tr>\n",
       "      <th>75%</th>\n",
       "      <td>120.000000</td>\n",
       "      <td>10.000000</td>\n",
       "      <td>2.000000</td>\n",
       "      <td>1.000000</td>\n",
       "      <td>4.000000</td>\n",
       "      <td>1.000000</td>\n",
       "      <td>1.000000</td>\n",
       "      <td>2.260000e+05</td>\n",
       "    </tr>\n",
       "    <tr>\n",
       "      <th>max</th>\n",
       "      <td>2004.000000</td>\n",
       "      <td>9999.000000</td>\n",
       "      <td>127.000000</td>\n",
       "      <td>8800.000000</td>\n",
       "      <td>9500.000000</td>\n",
       "      <td>99999.000000</td>\n",
       "      <td>79950.000000</td>\n",
       "      <td>5.472000e+06</td>\n",
       "    </tr>\n",
       "  </tbody>\n",
       "</table>\n",
       "</div>"
      ],
      "text/plain": [
       "                Term          NoEmp       NewExist      CreateJob  \\\n",
       "count  894576.000000  894576.000000  894445.000000  894576.000000   \n",
       "mean      111.094364      11.437133       1.280801       8.459165   \n",
       "std        80.656820      73.906391       0.498614     237.291653   \n",
       "min         0.000000       0.000000       0.000000       0.000000   \n",
       "25%        60.000000       2.000000       1.000000       0.000000   \n",
       "50%        84.000000       4.000000       1.000000       0.000000   \n",
       "75%       120.000000      10.000000       2.000000       1.000000   \n",
       "max      2004.000000    9999.000000     127.000000    8800.000000   \n",
       "\n",
       "         RetainedJob  FranchiseCode     UrbanRural        GrAppv  \n",
       "count  894576.000000  894576.000000  894576.000000  8.945760e+05  \n",
       "mean       10.821937    2759.693461       1.246191  1.932718e+05  \n",
       "std       237.724820   12771.457464     181.843629  2.837098e+05  \n",
       "min         0.000000       0.000000       0.000000  0.000000e+00  \n",
       "25%         0.000000       1.000000       0.000000  3.500000e+04  \n",
       "50%         1.000000       1.000000       1.000000  9.000000e+04  \n",
       "75%         4.000000       1.000000       1.000000  2.260000e+05  \n",
       "max      9500.000000   99999.000000   79950.000000  5.472000e+06  "
      ]
     },
     "execution_count": 63,
     "metadata": {},
     "output_type": "execute_result"
    }
   ],
   "source": [
    "df1.describe()"
   ]
  },
  {
   "cell_type": "code",
   "execution_count": 103,
   "id": "03594114",
   "metadata": {},
   "outputs": [],
   "source": [
    "#To remove outliers\n",
    "max_term=df1['Term'].quantile(0.90)\n"
   ]
  },
  {
   "cell_type": "code",
   "execution_count": 104,
   "id": "8e66e723",
   "metadata": {},
   "outputs": [],
   "source": [
    "df1= df1[df1['Term']<max_term]"
   ]
  },
  {
   "cell_type": "code",
   "execution_count": 74,
   "id": "492a8108",
   "metadata": {},
   "outputs": [
    {
     "data": {
      "text/html": [
       "<div>\n",
       "<style scoped>\n",
       "    .dataframe tbody tr th:only-of-type {\n",
       "        vertical-align: middle;\n",
       "    }\n",
       "\n",
       "    .dataframe tbody tr th {\n",
       "        vertical-align: top;\n",
       "    }\n",
       "\n",
       "    .dataframe thead th {\n",
       "        text-align: right;\n",
       "    }\n",
       "</style>\n",
       "<table border=\"1\" class=\"dataframe\">\n",
       "  <thead>\n",
       "    <tr style=\"text-align: right;\">\n",
       "      <th></th>\n",
       "      <th>State</th>\n",
       "      <th>NAICS</th>\n",
       "      <th>Term</th>\n",
       "      <th>NoEmp</th>\n",
       "      <th>NewExist</th>\n",
       "      <th>CreateJob</th>\n",
       "      <th>RetainedJob</th>\n",
       "      <th>FranchiseCode</th>\n",
       "      <th>UrbanRural</th>\n",
       "      <th>LowDoc</th>\n",
       "      <th>MIS_Status</th>\n",
       "      <th>GrAppv</th>\n",
       "    </tr>\n",
       "  </thead>\n",
       "  <tbody>\n",
       "    <tr>\n",
       "      <th>673692</th>\n",
       "      <td>TX</td>\n",
       "      <td>42</td>\n",
       "      <td>84</td>\n",
       "      <td>1</td>\n",
       "      <td>1.0</td>\n",
       "      <td>1</td>\n",
       "      <td>1</td>\n",
       "      <td>1</td>\n",
       "      <td>0</td>\n",
       "      <td>N</td>\n",
       "      <td>P I F</td>\n",
       "      <td>5000.0</td>\n",
       "    </tr>\n",
       "    <tr>\n",
       "      <th>384852</th>\n",
       "      <td>CA</td>\n",
       "      <td>42</td>\n",
       "      <td>84</td>\n",
       "      <td>2</td>\n",
       "      <td>1.0</td>\n",
       "      <td>0</td>\n",
       "      <td>2</td>\n",
       "      <td>0</td>\n",
       "      <td>1</td>\n",
       "      <td>N</td>\n",
       "      <td>P I F</td>\n",
       "      <td>15000.0</td>\n",
       "    </tr>\n",
       "    <tr>\n",
       "      <th>172941</th>\n",
       "      <td>AZ</td>\n",
       "      <td>54</td>\n",
       "      <td>55</td>\n",
       "      <td>1</td>\n",
       "      <td>1.0</td>\n",
       "      <td>1</td>\n",
       "      <td>1</td>\n",
       "      <td>1</td>\n",
       "      <td>1</td>\n",
       "      <td>N</td>\n",
       "      <td>CHGOFF</td>\n",
       "      <td>15000.0</td>\n",
       "    </tr>\n",
       "    <tr>\n",
       "      <th>265146</th>\n",
       "      <td>TX</td>\n",
       "      <td>23</td>\n",
       "      <td>84</td>\n",
       "      <td>6</td>\n",
       "      <td>1.0</td>\n",
       "      <td>3</td>\n",
       "      <td>6</td>\n",
       "      <td>1</td>\n",
       "      <td>1</td>\n",
       "      <td>N</td>\n",
       "      <td>P I F</td>\n",
       "      <td>50000.0</td>\n",
       "    </tr>\n",
       "    <tr>\n",
       "      <th>657882</th>\n",
       "      <td>WA</td>\n",
       "      <td>44</td>\n",
       "      <td>84</td>\n",
       "      <td>2</td>\n",
       "      <td>1.0</td>\n",
       "      <td>0</td>\n",
       "      <td>2</td>\n",
       "      <td>1</td>\n",
       "      <td>1</td>\n",
       "      <td>N</td>\n",
       "      <td>P I F</td>\n",
       "      <td>100000.0</td>\n",
       "    </tr>\n",
       "    <tr>\n",
       "      <th>84240</th>\n",
       "      <td>MD</td>\n",
       "      <td>23</td>\n",
       "      <td>84</td>\n",
       "      <td>3</td>\n",
       "      <td>1.0</td>\n",
       "      <td>2</td>\n",
       "      <td>3</td>\n",
       "      <td>0</td>\n",
       "      <td>1</td>\n",
       "      <td>N</td>\n",
       "      <td>P I F</td>\n",
       "      <td>75000.0</td>\n",
       "    </tr>\n",
       "    <tr>\n",
       "      <th>615531</th>\n",
       "      <td>MT</td>\n",
       "      <td>0</td>\n",
       "      <td>204</td>\n",
       "      <td>15</td>\n",
       "      <td>1.0</td>\n",
       "      <td>0</td>\n",
       "      <td>0</td>\n",
       "      <td>1</td>\n",
       "      <td>0</td>\n",
       "      <td>N</td>\n",
       "      <td>P I F</td>\n",
       "      <td>222600.0</td>\n",
       "    </tr>\n",
       "    <tr>\n",
       "      <th>506890</th>\n",
       "      <td>OH</td>\n",
       "      <td>23</td>\n",
       "      <td>14</td>\n",
       "      <td>15</td>\n",
       "      <td>1.0</td>\n",
       "      <td>0</td>\n",
       "      <td>0</td>\n",
       "      <td>1</td>\n",
       "      <td>0</td>\n",
       "      <td>N</td>\n",
       "      <td>P I F</td>\n",
       "      <td>40000.0</td>\n",
       "    </tr>\n",
       "    <tr>\n",
       "      <th>223067</th>\n",
       "      <td>MN</td>\n",
       "      <td>62</td>\n",
       "      <td>84</td>\n",
       "      <td>1</td>\n",
       "      <td>2.0</td>\n",
       "      <td>0</td>\n",
       "      <td>1</td>\n",
       "      <td>1</td>\n",
       "      <td>1</td>\n",
       "      <td>N</td>\n",
       "      <td>P I F</td>\n",
       "      <td>85000.0</td>\n",
       "    </tr>\n",
       "    <tr>\n",
       "      <th>252093</th>\n",
       "      <td>CO</td>\n",
       "      <td>0</td>\n",
       "      <td>222</td>\n",
       "      <td>2</td>\n",
       "      <td>2.0</td>\n",
       "      <td>0</td>\n",
       "      <td>0</td>\n",
       "      <td>1</td>\n",
       "      <td>0</td>\n",
       "      <td>Y</td>\n",
       "      <td>P I F</td>\n",
       "      <td>96500.0</td>\n",
       "    </tr>\n",
       "  </tbody>\n",
       "</table>\n",
       "</div>"
      ],
      "text/plain": [
       "       State NAICS  Term  NoEmp  NewExist  CreateJob  RetainedJob  \\\n",
       "673692    TX    42    84      1       1.0          1            1   \n",
       "384852    CA    42    84      2       1.0          0            2   \n",
       "172941    AZ    54    55      1       1.0          1            1   \n",
       "265146    TX    23    84      6       1.0          3            6   \n",
       "657882    WA    44    84      2       1.0          0            2   \n",
       "84240     MD    23    84      3       1.0          2            3   \n",
       "615531    MT     0   204     15       1.0          0            0   \n",
       "506890    OH    23    14     15       1.0          0            0   \n",
       "223067    MN    62    84      1       2.0          0            1   \n",
       "252093    CO     0   222      2       2.0          0            0   \n",
       "\n",
       "        FranchiseCode  UrbanRural LowDoc MIS_Status    GrAppv  \n",
       "673692              1           0      N      P I F    5000.0  \n",
       "384852              0           1      N      P I F   15000.0  \n",
       "172941              1           1      N     CHGOFF   15000.0  \n",
       "265146              1           1      N      P I F   50000.0  \n",
       "657882              1           1      N      P I F  100000.0  \n",
       "84240               0           1      N      P I F   75000.0  \n",
       "615531              1           0      N      P I F  222600.0  \n",
       "506890              1           0      N      P I F   40000.0  \n",
       "223067              1           1      N      P I F   85000.0  \n",
       "252093              1           0      Y      P I F   96500.0  "
      ]
     },
     "execution_count": 74,
     "metadata": {},
     "output_type": "execute_result"
    }
   ],
   "source": [
    "df1.sample(10)"
   ]
  },
  {
   "cell_type": "code",
   "execution_count": 111,
   "id": "241584c5",
   "metadata": {},
   "outputs": [],
   "source": [
    "df1['NAICS']=df1['NAICS'].astype(str).astype(int)"
   ]
  },
  {
   "cell_type": "code",
   "execution_count": 176,
   "id": "bd17929a",
   "metadata": {},
   "outputs": [],
   "source": [
    "#Giving categories based on the naics code:\n",
    "#dict_naics={'11':'Agriculture forestry, fishing and hunting',\n",
    "           # '21':'Mining, quarrying, and oil and gas extraction'\n",
    "           #}\n"
   ]
  },
  {
   "cell_type": "code",
   "execution_count": 180,
   "id": "5f417ea6",
   "metadata": {},
   "outputs": [
    {
     "data": {
      "text/plain": [
       "0    NaN\n",
       "1    NaN\n",
       "2    NaN\n",
       "3    NaN\n",
       "4    NaN\n",
       "Name: NAICS_Sector, dtype: object"
      ]
     },
     "execution_count": 180,
     "metadata": {},
     "output_type": "execute_result"
    }
   ],
   "source": [
    "#df1=df.toPandas()\n",
    "#df.select('NAICS').toPandas()\n",
    "#df1['NAICS_Sector'] = df1['NAICS'].map(dict_naics)                    \n",
    "#df1['NAICS_Sector'].head()"
   ]
  },
  {
   "cell_type": "code",
   "execution_count": 69,
   "id": "462307ab",
   "metadata": {
    "scrolled": false
   },
   "outputs": [
    {
     "name": "stdout",
     "output_type": "stream",
     "text": [
      "+-----+------+\n",
      "|State| count|\n",
      "+-----+------+\n",
      "|   CA|130307|\n",
      "|   TX| 70169|\n",
      "|   NY| 57319|\n",
      "|   FL| 41054|\n",
      "|   PA| 34746|\n",
      "|   OH| 32429|\n",
      "|   IL| 29547|\n",
      "|   MA| 25023|\n",
      "+-----+------+\n",
      "only showing top 8 rows\n",
      "\n"
     ]
    }
   ],
   "source": [
    "df.groupBy(df.State).count().orderBy('count',ascending=False).show(8)"
   ]
  },
  {
   "cell_type": "code",
   "execution_count": 33,
   "id": "6bdae711",
   "metadata": {},
   "outputs": [
    {
     "name": "stdout",
     "output_type": "stream",
     "text": [
      "+-----+------+\n",
      "|NAICS| count|\n",
      "+-----+------+\n",
      "|    0|201630|\n",
      "|   44| 84389|\n",
      "|   81| 72201|\n",
      "|   54| 67539|\n",
      "|   72| 67327|\n",
      "|   23| 66167|\n",
      "|   62| 55124|\n",
      "|   42| 48569|\n",
      "|   45| 42215|\n",
      "|   33| 38081|\n",
      "+-----+------+\n",
      "only showing top 10 rows\n",
      "\n"
     ]
    }
   ],
   "source": [
    "df.groupBy('NAICS').count().orderBy('count',ascending=False).show(10)"
   ]
  },
  {
   "cell_type": "code",
   "execution_count": 203,
   "id": "18725281",
   "metadata": {},
   "outputs": [
    {
     "name": "stdout",
     "output_type": "stream",
     "text": [
      "+-------------+------+\n",
      "|FranchiseCode| count|\n",
      "+-------------+------+\n",
      "|            1|637327|\n",
      "|            0|205549|\n",
      "|        78760|  3372|\n",
      "|        68020|  1917|\n",
      "|        50564|  1034|\n",
      "|        21780|  1001|\n",
      "|        25650|   715|\n",
      "|        79140|   658|\n",
      "|        22470|   615|\n",
      "|        17998|   606|\n",
      "+-------------+------+\n",
      "only showing top 10 rows\n",
      "\n"
     ]
    }
   ],
   "source": [
    "df.groupBy('FranchiseCode').count().orderBy('count',ascending=False).show(10) #Since 1 and 0 indicates no franchise \n",
    "            #and other values does not indicate anything as per dataset. This column is not useful to us"
   ]
  },
  {
   "cell_type": "code",
   "execution_count": 204,
   "id": "e74ed5e8",
   "metadata": {},
   "outputs": [
    {
     "name": "stdout",
     "output_type": "stream",
     "text": [
      "+----------+------+\n",
      "|UrbanRural| count|\n",
      "+----------+------+\n",
      "|         1|467271|\n",
      "|         0|322760|\n",
      "|         2|104477|\n",
      "+----------+------+\n",
      "\n"
     ]
    }
   ],
   "source": [
    "df.groupBy('UrbanRural').count().orderBy('count',ascending=False).show(10)"
   ]
  },
  {
   "cell_type": "code",
   "execution_count": 202,
   "id": "958503e8",
   "metadata": {},
   "outputs": [
    {
     "name": "stdout",
     "output_type": "stream",
     "text": [
      "+-----------+------+\n",
      "|RetainedJob| count|\n",
      "+-----------+------+\n",
      "|          0|439630|\n",
      "|          1| 87641|\n",
      "|          2| 76150|\n",
      "|          3| 49516|\n",
      "|          4| 39339|\n",
      "|          5| 32360|\n",
      "|          6| 23628|\n",
      "|          7| 16409|\n",
      "|          8| 15609|\n",
      "|         10| 15358|\n",
      "+-----------+------+\n",
      "only showing top 10 rows\n",
      "\n"
     ]
    }
   ],
   "source": [
    "df.groupBy('RetainedJob').count().orderBy('count',ascending=False).show(10)"
   ]
  },
  {
   "cell_type": "code",
   "execution_count": 205,
   "id": "672ee677",
   "metadata": {},
   "outputs": [
    {
     "name": "stdout",
     "output_type": "stream",
     "text": [
      "+------+------+\n",
      "|LowDoc| count|\n",
      "+------+------+\n",
      "|     N|780935|\n",
      "|     Y|110152|\n",
      "|     0|  1490|\n",
      "|     C|   758|\n",
      "|     S|   603|\n",
      "|     A|   495|\n",
      "|     R|    74|\n",
      "|     1|     1|\n",
      "+------+------+\n",
      "\n"
     ]
    }
   ],
   "source": [
    "df.groupBy('LowDoc').count().orderBy('count',ascending=False).show(10)"
   ]
  },
  {
   "cell_type": "code",
   "execution_count": 83,
   "id": "c6714c14",
   "metadata": {},
   "outputs": [
    {
     "name": "stdout",
     "output_type": "stream",
     "text": [
      "+--------+------+\n",
      "|NewExist| count|\n",
      "+--------+------+\n",
      "|       1|642058|\n",
      "|       2|251308|\n",
      "|       0|  1027|\n",
      "|    null|   131|\n",
      "|      20|     6|\n",
      "|       5|     6|\n",
      "|       6|     5|\n",
      "|       4|     4|\n",
      "|       8|     4|\n",
      "|       3|     4|\n",
      "+--------+------+\n",
      "only showing top 10 rows\n",
      "\n"
     ]
    }
   ],
   "source": [
    "df.groupBy('NewExist').count().orderBy('count',ascending=False).show(10)"
   ]
  },
  {
   "cell_type": "code",
   "execution_count": 65,
   "id": "f898f1d0",
   "metadata": {},
   "outputs": [],
   "source": []
  },
  {
   "cell_type": "code",
   "execution_count": 49,
   "id": "cce621aa",
   "metadata": {},
   "outputs": [],
   "source": []
  },
  {
   "cell_type": "code",
   "execution_count": 210,
   "id": "3e8994e3",
   "metadata": {},
   "outputs": [],
   "source": []
  },
  {
   "cell_type": "code",
   "execution_count": null,
   "id": "e0c1d553",
   "metadata": {},
   "outputs": [],
   "source": []
  },
  {
   "cell_type": "code",
   "execution_count": 28,
   "id": "54c91b46",
   "metadata": {},
   "outputs": [],
   "source": []
  },
  {
   "cell_type": "markdown",
   "id": "af64b7e2",
   "metadata": {},
   "source": [
    "### Data Visualization"
   ]
  },
  {
   "cell_type": "code",
   "execution_count": 35,
   "id": "a1749982",
   "metadata": {},
   "outputs": [],
   "source": [
    "#Data visualization\n",
    "import matplotlib.pyplot as plt\n",
    "import seaborn as sns"
   ]
  },
  {
   "cell_type": "code",
   "execution_count": 36,
   "id": "4cdd8ba4",
   "metadata": {
    "scrolled": true
   },
   "outputs": [
    {
     "data": {
      "text/plain": [
       "<AxesSubplot:>"
      ]
     },
     "execution_count": 36,
     "metadata": {},
     "output_type": "execute_result"
    },
    {
     "data": {
      "image/png": "[encoded data removed]",
      "text/plain": [
       "<Figure size 432x288 with 1 Axes>"
      ]
     },
     "metadata": {
      "needs_background": "light"
     },
     "output_type": "display_data"
    }
   ],
   "source": [
    "# Box-plot\n",
    "x= df.select('NewExist').toPandas()\n",
    "sns.boxplot(data=x)"
   ]
  },
  {
   "cell_type": "code",
   "execution_count": 101,
   "id": "735d5899",
   "metadata": {},
   "outputs": [
    {
     "ename": "ValueError",
     "evalue": "The truth value of a DataFrame is ambiguous. Use a.empty, a.bool(), a.item(), a.any() or a.all().",
     "output_type": "error",
     "traceback": [
      "\u001b[1;31m---------------------------------------------------------------------------\u001b[0m",
      "\u001b[1;31mValueError\u001b[0m                                Traceback (most recent call last)",
      "\u001b[1;32m<ipython-input-101-b6d642cc82a5>\u001b[0m in \u001b[0;36m<module>\u001b[1;34m\u001b[0m\n\u001b[0;32m      1\u001b[0m \u001b[1;31m#Drop the rows with other values in 'Low Doc' and 'NewExist' col\u001b[0m\u001b[1;33m\u001b[0m\u001b[1;33m\u001b[0m\u001b[1;33m\u001b[0m\u001b[0m\n\u001b[1;32m----> 2\u001b[1;33m \u001b[0mdf1\u001b[0m\u001b[1;33m=\u001b[0m \u001b[0mdf1\u001b[0m\u001b[1;33m[\u001b[0m\u001b[1;33m(\u001b[0m\u001b[0mdf1\u001b[0m\u001b[1;33m[\u001b[0m\u001b[1;34m'LowDoc'\u001b[0m\u001b[1;33m]\u001b[0m\u001b[1;33m==\u001b[0m \u001b[1;34m'Y'\u001b[0m\u001b[1;33m)\u001b[0m\u001b[1;33m]\u001b[0m \u001b[1;32mor\u001b[0m \u001b[0mdf1\u001b[0m\u001b[1;33m[\u001b[0m\u001b[1;33m(\u001b[0m\u001b[0mdf1\u001b[0m\u001b[1;33m[\u001b[0m\u001b[1;34m'LowDoc'\u001b[0m\u001b[1;33m]\u001b[0m\u001b[1;33m==\u001b[0m\u001b[1;34m'N'\u001b[0m\u001b[1;33m)\u001b[0m\u001b[1;33m]\u001b[0m\u001b[1;33m\u001b[0m\u001b[1;33m\u001b[0m\u001b[0m\n\u001b[0m\u001b[0;32m      3\u001b[0m \u001b[1;31m#df1= df1[((df1['NewExist']== '1')|(df1['NewExist']=='2'))]\u001b[0m\u001b[1;33m\u001b[0m\u001b[1;33m\u001b[0m\u001b[1;33m\u001b[0m\u001b[0m\n",
      "\u001b[1;32m~\\anaconda3\\lib\\site-packages\\pandas\\core\\generic.py\u001b[0m in \u001b[0;36m__nonzero__\u001b[1;34m(self)\u001b[0m\n\u001b[0;32m   1440\u001b[0m     \u001b[1;33m@\u001b[0m\u001b[0mfinal\u001b[0m\u001b[1;33m\u001b[0m\u001b[1;33m\u001b[0m\u001b[0m\n\u001b[0;32m   1441\u001b[0m     \u001b[1;32mdef\u001b[0m \u001b[0m__nonzero__\u001b[0m\u001b[1;33m(\u001b[0m\u001b[0mself\u001b[0m\u001b[1;33m)\u001b[0m\u001b[1;33m:\u001b[0m\u001b[1;33m\u001b[0m\u001b[1;33m\u001b[0m\u001b[0m\n\u001b[1;32m-> 1442\u001b[1;33m         raise ValueError(\n\u001b[0m\u001b[0;32m   1443\u001b[0m             \u001b[1;34mf\"The truth value of a {type(self).__name__} is ambiguous. \"\u001b[0m\u001b[1;33m\u001b[0m\u001b[1;33m\u001b[0m\u001b[0m\n\u001b[0;32m   1444\u001b[0m             \u001b[1;34m\"Use a.empty, a.bool(), a.item(), a.any() or a.all().\"\u001b[0m\u001b[1;33m\u001b[0m\u001b[1;33m\u001b[0m\u001b[0m\n",
      "\u001b[1;31mValueError\u001b[0m: The truth value of a DataFrame is ambiguous. Use a.empty, a.bool(), a.item(), a.any() or a.all()."
     ]
    }
   ],
   "source": [
    "#Drop the rows with other values in 'Low Doc' and 'NewExist' col\n",
    "#df1= df1[(df1['LowDoc']== 'Y')] or df1[(df1['LowDoc']=='N')]\n",
    "#df1= df1[((df1['NewExist']== '1')|(df1['NewExist']=='2'))]"
   ]
  },
  {
   "cell_type": "code",
   "execution_count": 75,
   "id": "dbc7d1ca",
   "metadata": {},
   "outputs": [
    {
     "data": {
      "text/plain": [
       "(array([ 21957.,  35023.,  28562.,  45937.,  43565., 121106.,  29835.,\n",
       "        250086.,  15808.,  10443.,  84816.,   2667.,   5044.,   2445.,\n",
       "          3000.,  31304.,   2215.,   2608.,   3374.,   2641.]),\n",
       " array([  0.  ,  11.95,  23.9 ,  35.85,  47.8 ,  59.75,  71.7 ,  83.65,\n",
       "         95.6 , 107.55, 119.5 , 131.45, 143.4 , 155.35, 167.3 , 179.25,\n",
       "        191.2 , 203.15, 215.1 , 227.05, 239.  ]),\n",
       " <BarContainer object of 20 artists>)"
      ]
     },
     "execution_count": 75,
     "metadata": {},
     "output_type": "execute_result"
    },
    {
     "data": {
      "image/png": "[encoded data removed]",
      "text/plain": [
       "<Figure size 432x288 with 1 Axes>"
      ]
     },
     "metadata": {
      "needs_background": "light"
     },
     "output_type": "display_data"
    }
   ],
   "source": [
    "#Histogram for 'Term' column\n",
    "\n",
    "plt.hist(df1['Term'],bins=20)"
   ]
  },
  {
   "cell_type": "code",
   "execution_count": 76,
   "id": "6e410757",
   "metadata": {
    "scrolled": true
   },
   "outputs": [
    {
     "data": {
      "text/plain": [
       "<AxesSubplot:xlabel='UrbanRural', ylabel='GrAppv'>"
      ]
     },
     "execution_count": 76,
     "metadata": {},
     "output_type": "execute_result"
    },
    {
     "data": {
      "image/png": "[encoded data removed]",
      "text/plain": [
       "<Figure size 432x288 with 1 Axes>"
      ]
     },
     "metadata": {
      "needs_background": "light"
     },
     "output_type": "display_data"
    }
   ],
   "source": [
    "#Bar plot\n",
    "\n",
    "sns.barplot(x=df1['UrbanRural'],y=df1['GrAppv'],data= df1)"
   ]
  },
  {
   "cell_type": "code",
   "execution_count": 77,
   "id": "f6cc37f4",
   "metadata": {},
   "outputs": [
    {
     "data": {
      "text/plain": [
       "<AxesSubplot:xlabel='Term', ylabel='GrAppv'>"
      ]
     },
     "execution_count": 77,
     "metadata": {},
     "output_type": "execute_result"
    },
    {
     "data": {
      "image/png": "[encoded data removed]",
      "text/plain": [
       "<Figure size 432x288 with 1 Axes>"
      ]
     },
     "metadata": {
      "needs_background": "light"
     },
     "output_type": "display_data"
    }
   ],
   "source": [
    "sns.scatterplot(x=df1['Term'],y=df1['GrAppv'],data=df1)\n",
    "\n",
    "#Data points are completely scattered over the plot. No correlation can be determined"
   ]
  },
  {
   "cell_type": "code",
   "execution_count": 82,
   "id": "6784933f",
   "metadata": {},
   "outputs": [
    {
     "name": "stdout",
     "output_type": "stream",
     "text": [
      "root\n",
      " |-- State: string (nullable = true)\n",
      " |-- NAICS: string (nullable = true)\n",
      " |-- Term: integer (nullable = true)\n",
      " |-- NoEmp: integer (nullable = true)\n",
      " |-- NewExist: integer (nullable = true)\n",
      " |-- CreateJob: integer (nullable = true)\n",
      " |-- RetainedJob: integer (nullable = true)\n",
      " |-- FranchiseCode: integer (nullable = true)\n",
      " |-- UrbanRural: integer (nullable = true)\n",
      " |-- LowDoc: string (nullable = true)\n",
      " |-- MIS_Status: string (nullable = true)\n",
      " |-- GrAppv: float (nullable = true)\n",
      "\n"
     ]
    }
   ],
   "source": [
    "# Creates a Schema of dataFrame\n",
    "df.printSchema()"
   ]
  },
  {
   "cell_type": "code",
   "execution_count": 112,
   "id": "41385455",
   "metadata": {},
   "outputs": [
    {
     "data": {
      "text/html": [
       "<div>\n",
       "<style scoped>\n",
       "    .dataframe tbody tr th:only-of-type {\n",
       "        vertical-align: middle;\n",
       "    }\n",
       "\n",
       "    .dataframe tbody tr th {\n",
       "        vertical-align: top;\n",
       "    }\n",
       "\n",
       "    .dataframe thead th {\n",
       "        text-align: right;\n",
       "    }\n",
       "</style>\n",
       "<table border=\"1\" class=\"dataframe\">\n",
       "  <thead>\n",
       "    <tr style=\"text-align: right;\">\n",
       "      <th></th>\n",
       "      <th>State</th>\n",
       "      <th>NAICS</th>\n",
       "      <th>Term</th>\n",
       "      <th>NoEmp</th>\n",
       "      <th>NewExist</th>\n",
       "      <th>CreateJob</th>\n",
       "      <th>RetainedJob</th>\n",
       "      <th>FranchiseCode</th>\n",
       "      <th>UrbanRural</th>\n",
       "      <th>LowDoc</th>\n",
       "      <th>MIS_Status</th>\n",
       "      <th>GrAppv</th>\n",
       "    </tr>\n",
       "  </thead>\n",
       "  <tbody>\n",
       "    <tr>\n",
       "      <th>0</th>\n",
       "      <td>IN</td>\n",
       "      <td>45</td>\n",
       "      <td>84</td>\n",
       "      <td>4</td>\n",
       "      <td>2.0</td>\n",
       "      <td>0</td>\n",
       "      <td>0</td>\n",
       "      <td>1</td>\n",
       "      <td>0</td>\n",
       "      <td>Y</td>\n",
       "      <td>P I F</td>\n",
       "      <td>60000.0</td>\n",
       "    </tr>\n",
       "    <tr>\n",
       "      <th>1</th>\n",
       "      <td>IN</td>\n",
       "      <td>72</td>\n",
       "      <td>60</td>\n",
       "      <td>2</td>\n",
       "      <td>2.0</td>\n",
       "      <td>0</td>\n",
       "      <td>0</td>\n",
       "      <td>1</td>\n",
       "      <td>0</td>\n",
       "      <td>Y</td>\n",
       "      <td>P I F</td>\n",
       "      <td>40000.0</td>\n",
       "    </tr>\n",
       "    <tr>\n",
       "      <th>2</th>\n",
       "      <td>IN</td>\n",
       "      <td>62</td>\n",
       "      <td>180</td>\n",
       "      <td>7</td>\n",
       "      <td>1.0</td>\n",
       "      <td>0</td>\n",
       "      <td>0</td>\n",
       "      <td>1</td>\n",
       "      <td>0</td>\n",
       "      <td>N</td>\n",
       "      <td>P I F</td>\n",
       "      <td>287000.0</td>\n",
       "    </tr>\n",
       "    <tr>\n",
       "      <th>3</th>\n",
       "      <td>OK</td>\n",
       "      <td>0</td>\n",
       "      <td>60</td>\n",
       "      <td>2</td>\n",
       "      <td>1.0</td>\n",
       "      <td>0</td>\n",
       "      <td>0</td>\n",
       "      <td>1</td>\n",
       "      <td>0</td>\n",
       "      <td>Y</td>\n",
       "      <td>P I F</td>\n",
       "      <td>35000.0</td>\n",
       "    </tr>\n",
       "    <tr>\n",
       "      <th>5</th>\n",
       "      <td>CT</td>\n",
       "      <td>33</td>\n",
       "      <td>120</td>\n",
       "      <td>19</td>\n",
       "      <td>1.0</td>\n",
       "      <td>0</td>\n",
       "      <td>0</td>\n",
       "      <td>1</td>\n",
       "      <td>0</td>\n",
       "      <td>N</td>\n",
       "      <td>P I F</td>\n",
       "      <td>517000.0</td>\n",
       "    </tr>\n",
       "    <tr>\n",
       "      <th>...</th>\n",
       "      <td>...</td>\n",
       "      <td>...</td>\n",
       "      <td>...</td>\n",
       "      <td>...</td>\n",
       "      <td>...</td>\n",
       "      <td>...</td>\n",
       "      <td>...</td>\n",
       "      <td>...</td>\n",
       "      <td>...</td>\n",
       "      <td>...</td>\n",
       "      <td>...</td>\n",
       "      <td>...</td>\n",
       "    </tr>\n",
       "    <tr>\n",
       "      <th>894571</th>\n",
       "      <td>OH</td>\n",
       "      <td>45</td>\n",
       "      <td>60</td>\n",
       "      <td>6</td>\n",
       "      <td>1.0</td>\n",
       "      <td>0</td>\n",
       "      <td>0</td>\n",
       "      <td>1</td>\n",
       "      <td>0</td>\n",
       "      <td>N</td>\n",
       "      <td>P I F</td>\n",
       "      <td>70000.0</td>\n",
       "    </tr>\n",
       "    <tr>\n",
       "      <th>894572</th>\n",
       "      <td>OH</td>\n",
       "      <td>45</td>\n",
       "      <td>60</td>\n",
       "      <td>6</td>\n",
       "      <td>1.0</td>\n",
       "      <td>0</td>\n",
       "      <td>0</td>\n",
       "      <td>1</td>\n",
       "      <td>0</td>\n",
       "      <td>N</td>\n",
       "      <td>P I F</td>\n",
       "      <td>85000.0</td>\n",
       "    </tr>\n",
       "    <tr>\n",
       "      <th>894573</th>\n",
       "      <td>CA</td>\n",
       "      <td>33</td>\n",
       "      <td>108</td>\n",
       "      <td>26</td>\n",
       "      <td>1.0</td>\n",
       "      <td>0</td>\n",
       "      <td>0</td>\n",
       "      <td>1</td>\n",
       "      <td>0</td>\n",
       "      <td>N</td>\n",
       "      <td>P I F</td>\n",
       "      <td>300000.0</td>\n",
       "    </tr>\n",
       "    <tr>\n",
       "      <th>894574</th>\n",
       "      <td>HI</td>\n",
       "      <td>0</td>\n",
       "      <td>60</td>\n",
       "      <td>6</td>\n",
       "      <td>1.0</td>\n",
       "      <td>0</td>\n",
       "      <td>0</td>\n",
       "      <td>1</td>\n",
       "      <td>0</td>\n",
       "      <td>Y</td>\n",
       "      <td>CHGOFF</td>\n",
       "      <td>75000.0</td>\n",
       "    </tr>\n",
       "    <tr>\n",
       "      <th>894575</th>\n",
       "      <td>HI</td>\n",
       "      <td>0</td>\n",
       "      <td>48</td>\n",
       "      <td>1</td>\n",
       "      <td>2.0</td>\n",
       "      <td>0</td>\n",
       "      <td>0</td>\n",
       "      <td>1</td>\n",
       "      <td>0</td>\n",
       "      <td>N</td>\n",
       "      <td>P I F</td>\n",
       "      <td>30000.0</td>\n",
       "    </tr>\n",
       "  </tbody>\n",
       "</table>\n",
       "<p>742436 rows × 12 columns</p>\n",
       "</div>"
      ],
      "text/plain": [
       "       State  NAICS  Term  NoEmp  NewExist  CreateJob  RetainedJob  \\\n",
       "0         IN     45    84      4       2.0          0            0   \n",
       "1         IN     72    60      2       2.0          0            0   \n",
       "2         IN     62   180      7       1.0          0            0   \n",
       "3         OK      0    60      2       1.0          0            0   \n",
       "5         CT     33   120     19       1.0          0            0   \n",
       "...      ...    ...   ...    ...       ...        ...          ...   \n",
       "894571    OH     45    60      6       1.0          0            0   \n",
       "894572    OH     45    60      6       1.0          0            0   \n",
       "894573    CA     33   108     26       1.0          0            0   \n",
       "894574    HI      0    60      6       1.0          0            0   \n",
       "894575    HI      0    48      1       2.0          0            0   \n",
       "\n",
       "        FranchiseCode  UrbanRural LowDoc MIS_Status    GrAppv  \n",
       "0                   1           0      Y      P I F   60000.0  \n",
       "1                   1           0      Y      P I F   40000.0  \n",
       "2                   1           0      N      P I F  287000.0  \n",
       "3                   1           0      Y      P I F   35000.0  \n",
       "5                   1           0      N      P I F  517000.0  \n",
       "...               ...         ...    ...        ...       ...  \n",
       "894571              1           0      N      P I F   70000.0  \n",
       "894572              1           0      N      P I F   85000.0  \n",
       "894573              1           0      N      P I F  300000.0  \n",
       "894574              1           0      Y     CHGOFF   75000.0  \n",
       "894575              1           0      N      P I F   30000.0  \n",
       "\n",
       "[742436 rows x 12 columns]"
      ]
     },
     "execution_count": 112,
     "metadata": {},
     "output_type": "execute_result"
    }
   ],
   "source": [
    "df1"
   ]
  },
  {
   "cell_type": "code",
   "execution_count": 132,
   "id": "2a6ea372",
   "metadata": {
    "scrolled": true
   },
   "outputs": [],
   "source": [
    "df=spark.createDataFrame(df1)"
   ]
  },
  {
   "cell_type": "markdown",
   "id": "afda1e69",
   "metadata": {},
   "source": [
    "### Logistic regression model"
   ]
  },
  {
   "cell_type": "code",
   "execution_count": 115,
   "id": "3bf91a19",
   "metadata": {},
   "outputs": [],
   "source": [
    "# import mlib\n",
    "from pyspark.ml.feature import StringIndexer,VectorAssembler "
   ]
  },
  {
   "cell_type": "code",
   "execution_count": 133,
   "id": "8b8a4de5",
   "metadata": {},
   "outputs": [],
   "source": [
    "indexer=StringIndexer(inputCols=['State','NewExist','UrbanRural','LowDoc','MIS_Status'],\n",
    "                      outputCols=['State_index','NewExist_index','UrbanRural_index','LowDoc_index','MIS_Status_index'])\n",
    "df2= indexer.fit(df).transform(df)"
   ]
  },
  {
   "cell_type": "code",
   "execution_count": 134,
   "id": "fcc4562d",
   "metadata": {},
   "outputs": [
    {
     "data": {
      "text/plain": [
       "['State',\n",
       " 'NAICS',\n",
       " 'Term',\n",
       " 'NoEmp',\n",
       " 'NewExist',\n",
       " 'CreateJob',\n",
       " 'RetainedJob',\n",
       " 'FranchiseCode',\n",
       " 'UrbanRural',\n",
       " 'LowDoc',\n",
       " 'MIS_Status',\n",
       " 'GrAppv',\n",
       " 'NewExist_index',\n",
       " 'UrbanRural_index',\n",
       " 'State_index',\n",
       " 'LowDoc_index',\n",
       " 'MIS_Status_index']"
      ]
     },
     "execution_count": 134,
     "metadata": {},
     "output_type": "execute_result"
    }
   ],
   "source": [
    "df2.columns"
   ]
  },
  {
   "cell_type": "code",
   "execution_count": 136,
   "id": "3db0349f",
   "metadata": {},
   "outputs": [],
   "source": [
    "featureassembler=VectorAssembler(inputCols=['State_index','NAICS','Term','NoEmp','NewExist_index','CreateJob',\n",
    "                                            'RetainedJob','FranchiseCode','UrbanRural_index','LowDoc_index','GrAppv'], \n",
    "                                 outputCol='Independent Features')\n",
    "output= featureassembler.transform(df2)"
   ]
  },
  {
   "cell_type": "code",
   "execution_count": 129,
   "id": "c5378b82",
   "metadata": {},
   "outputs": [],
   "source": [
    "#output.show()"
   ]
  },
  {
   "cell_type": "code",
   "execution_count": 137,
   "id": "41ba9005",
   "metadata": {},
   "outputs": [],
   "source": [
    "finalized_data=output.select('Independent Features','MIS_Status_index')"
   ]
  },
  {
   "cell_type": "code",
   "execution_count": 138,
   "id": "e0894b96",
   "metadata": {},
   "outputs": [],
   "source": [
    "train_data,test_data=finalized_data.randomSplit([0.80,0.20])"
   ]
  },
  {
   "cell_type": "code",
   "execution_count": 139,
   "id": "dbcd8293",
   "metadata": {},
   "outputs": [],
   "source": [
    "from pyspark.ml.classification import LogisticRegression"
   ]
  },
  {
   "cell_type": "code",
   "execution_count": 141,
   "id": "8a750e7c",
   "metadata": {},
   "outputs": [],
   "source": [
    "lr= LogisticRegression(featuresCol='Independent Features',labelCol='MIS_Status_index')"
   ]
  },
  {
   "cell_type": "code",
   "execution_count": 143,
   "id": "7f75a570",
   "metadata": {},
   "outputs": [],
   "source": [
    "lr_model= lr.fit(train_data)"
   ]
  },
  {
   "cell_type": "code",
   "execution_count": null,
   "id": "ed310717",
   "metadata": {},
   "outputs": [],
   "source": [
    "lr_model_summary= lr_model.summary"
   ]
  },
  {
   "cell_type": "code",
   "execution_count": null,
   "id": "90937fa5",
   "metadata": {},
   "outputs": [],
   "source": [
    "lr_model_summary.predictions()"
   ]
  },
  {
   "cell_type": "code",
   "execution_count": 96,
   "id": "abfd9001",
   "metadata": {},
   "outputs": [],
   "source": [
    "from pyspark.ml.evaluation import BinaryClassificationEvaluator"
   ]
  },
  {
   "cell_type": "code",
   "execution_count": 144,
   "id": "fffbdcd3",
   "metadata": {},
   "outputs": [],
   "source": [
    "pred_labels= lr_model.evaluate(test_data)"
   ]
  },
  {
   "cell_type": "code",
   "execution_count": 145,
   "id": "5c61fc4e",
   "metadata": {},
   "outputs": [],
   "source": [
    "pred_labels.prediction.show()"
   ]
  },
  {
   "cell_type": "code",
   "execution_count": null,
   "id": "bf57d766",
   "metadata": {},
   "outputs": [],
   "source": []
  }
 ],
 "metadata": {
  "kernelspec": {
   "display_name": "Python 3",
   "language": "python",
   "name": "python3"
  },
  "language_info": {
   "codemirror_mode": {
    "name": "ipython",
    "version": 3
   },
   "file_extension": ".py",
   "mimetype": "text/x-python",
   "name": "python",
   "nbconvert_exporter": "python",
   "pygments_lexer": "ipython3",
   "version": "3.8.8"
  }
 },
 "nbformat": 4,
 "nbformat_minor": 5
}
